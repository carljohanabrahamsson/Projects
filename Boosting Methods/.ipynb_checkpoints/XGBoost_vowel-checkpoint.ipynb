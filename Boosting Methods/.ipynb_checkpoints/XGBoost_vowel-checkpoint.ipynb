{
 "cells": [
  {
   "cell_type": "code",
   "execution_count": 1,
   "metadata": {},
   "outputs": [
    {
     "name": "stderr",
     "output_type": "stream",
     "text": [
      "Using TensorFlow backend.\n"
     ]
    }
   ],
   "source": [
    "import pandas as pd\n",
    "from keras.utils import to_categorical\n",
    "import numpy as np\n",
    "\n",
    "\n",
    "def split_data(data):\n",
    "    train = data.loc[0:np.min(np.where(data.loc[:,0]>0)),:]\n",
    "    test = data.loc[np.min(np.where(data.loc[:,0]>0)):len(data),:]\n",
    "    y_train = train[len(train.T)-1].astype(int)\n",
    "    y_test = test[len(train.T)-1].astype(int)\n",
    "    X_train = train.iloc[:,3:len(train.T)-1].reset_index(drop=True)\n",
    "    X_test = test.iloc[:,3:len(test.T)-1].reset_index(drop=True)\n",
    "    X_train.columns = range(X_train.shape[1])\n",
    "    X_test.columns = range(X_test.shape[1])\n",
    "    return X_train, X_test, y_train, y_test\n",
    "\n",
    "\n",
    "\n",
    "if __name__==\"__main__\":\n",
    "    df = pd.read_csv('vowel-context.txt', delim_whitespace=True, header=None)\n",
    "    X_train, X_test, y_train, y_test = split_data(df)\n",
    "    #y_train = to_categorical(y_train)\n",
    "    #y_test = to_categorical(y_test)"
   ]
  },
  {
   "cell_type": "code",
   "execution_count": 3,
   "metadata": {},
   "outputs": [
    {
     "name": "stderr",
     "output_type": "stream",
     "text": [
      "/home/johan.abrahamsson/anaconda3/lib/python3.6/site-packages/sklearn/preprocessing/label.py:151: DeprecationWarning: The truth value of an empty array is ambiguous. Returning False, but in future this will result in an error. Use `array.size > 0` to check that an array is not empty.\n",
      "  if diff:\n"
     ]
    },
    {
     "data": {
      "text/plain": [
       "<Figure size 640x480 with 1 Axes>"
      ]
     },
     "metadata": {},
     "output_type": "display_data"
    }
   ],
   "source": [
    "from xgboost import XGBClassifier\n",
    "from xgboost import plot_importance\n",
    "import matplotlib.pyplot as plt\n",
    "\n",
    "my_model = XGBClassifier(n_estimators=1000)\n",
    "\n",
    "my_model.fit(X_train, y_train)\n",
    "preds = my_model.predict(X_test)\n",
    "acc_gnb = (preds == y_test).sum().astype(float) / len(preds)*100\n",
    "acc_gnb\n",
    "plot_importance(my_model)\n",
    "plt.show()"
   ]
  },
  {
   "cell_type": "code",
   "execution_count": 21,
   "metadata": {},
   "outputs": [
    {
     "data": {
      "text/plain": [
       "49.35064935064935"
      ]
     },
     "execution_count": 21,
     "metadata": {},
     "output_type": "execute_result"
    }
   ],
   "source": [
    "acc_gnb = (preds == y_test).sum().astype(float) / len(preds)*100\n"
   ]
  },
  {
   "cell_type": "code",
   "execution_count": 9,
   "metadata": {},
   "outputs": [
    {
     "data": {
      "image/png": "[encoded data removed]",
      "text/plain": [
       "<Figure size 864x864 with 1 Axes>"
      ]
     },
     "metadata": {
      "needs_background": "light"
     },
     "output_type": "display_data"
    }
   ],
   "source": [
    "fig, ax = plt.subplots(figsize=(12 ,12))\n",
    "plot_importance(my_model, ax=ax)\n",
    "plt.show()"
   ]
  },
  {
   "cell_type": "code",
   "execution_count": 11,
   "metadata": {},
   "outputs": [
    {
     "name": "stdout",
     "output_type": "stream",
     "text": [
      "[0.15771677 0.11118626 0.07588259 0.08846206 0.11700257 0.11571757\n",
      " 0.09705126 0.108481   0.07595022 0.05254971]\n"
     ]
    }
   ],
   "source": [
    "print(my_model.feature_importances_)"
   ]
  },
  {
   "cell_type": "code",
   "execution_count": 22,
   "metadata": {},
   "outputs": [
    {
     "data": {
      "text/plain": [
       "{'1': 24013.604755849996,\n",
       " '2': 8702.81381547,\n",
       " '0': 29406.51408239006,\n",
       " '5': 12567.036053969989,\n",
       " '4': 14596.74751317003,\n",
       " '7': 14817.300054000005,\n",
       " '3': 9002.46102983999,\n",
       " '9': 5768.859657360008,\n",
       " '6': 10222.843522190038,\n",
       " '8': 10335.538394569992}"
      ]
     },
     "execution_count": 22,
     "metadata": {},
     "output_type": "execute_result"
    }
   ],
   "source": [
    "my_model.get_booster().get_score(importance_type='total_cover')"
   ]
  },
  {
   "cell_type": "code",
   "execution_count": null,
   "metadata": {},
   "outputs": [],
   "source": []
  }
 ],
 "metadata": {
  "kernelspec": {
   "display_name": "Python 3",
   "language": "python",
   "name": "python3"
  },
  "language_info": {
   "codemirror_mode": {
    "name": "ipython",
    "version": 3
   },
   "file_extension": ".py",
   "mimetype": "text/x-python",
   "name": "python",
   "nbconvert_exporter": "python",
   "pygments_lexer": "ipython3",
   "version": "3.6.8"
  }
 },
 "nbformat": 4,
 "nbformat_minor": 2
}
