{
 "cells": [
  {
   "cell_type": "code",
   "execution_count": 1,
   "metadata": {},
   "outputs": [
    {
     "name": "stderr",
     "output_type": "stream",
     "text": [
      "Using TensorFlow backend.\n"
     ]
    }
   ],
   "source": [
    "import pandas as pd\n",
    "from keras.utils import to_categorical\n",
    "import numpy as np\n",
    "\n",
    "\n",
    "def split_data(data):\n",
    "    train = data.loc[0:np.min(np.where(data.loc[:,0]>0)),:]\n",
    "    test = data.loc[np.min(np.where(data.loc[:,0]>0)):len(data),:]\n",
    "    t_train = list(train.loc[:,len(train.T)-1].astype(int))\n",
    "    t_test = list(test.loc[:,len(train.T)-1].astype(int))\n",
    "    train = train.iloc[:,3:len(train.T)-1].reset_index(drop=True)\n",
    "    test = test.iloc[:,3:len(test.T)-1].reset_index(drop=True)\n",
    "    train.columns = range(train.shape[1])\n",
    "    test.columns = range(test.shape[1])\n",
    "    return train, test, t_train, t_test\n",
    "\n",
    "\n",
    "\n",
    "if __name__==\"__main__\":\n",
    "    df = pd.read_csv('vowel-context.txt', delim_whitespace=True, header=None)\n",
    "    train, test, t_train, t_test = split_data(df)\n",
    "    T_train = to_categorical(t_train)\n",
    "    T_test = to_categorical(t_test)"
   ]
  },
  {
   "cell_type": "code",
   "execution_count": null,
   "metadata": {},
   "outputs": [],
   "source": [
    "np.random.seed(0)\n",
    "INPUT_LENGHT = train.values.shape[1] \n",
    "HIDDEN_UNITS = 10000\n",
    "lam_vec = [20, 25]#[0.1, 1, 10, 20, 100, 200]\n",
    "\n",
    "Win = np.random.normal(size=[INPUT_LENGHT, HIDDEN_UNITS])\n",
    "\n",
    "def input_to_hidden(x):\n",
    "    a = np.dot(x, Win)\n",
    "    a = 1 / (1 + np.exp(-a))\n",
    "    #a = np.maximum(a, 0, a)\n",
    "    return a\n",
    "\n",
    "def predict(x):\n",
    "    x = input_to_hidden(x)\n",
    "    y = np.dot(x, Wout)\n",
    "    return y\n",
    "\n",
    "X = input_to_hidden(train.values)\n",
    "Xt = np.transpose(X)\n",
    "for lam in lam_vec:\n",
    "    Wout = np.dot(np.linalg.inv(np.dot(Xt, X)+lam*np.eye(HIDDEN_UNITS,HIDDEN_UNITS)), np.dot(Xt, T_train))\n",
    "    y = predict(test.values)\n",
    "    test_error_rate = np.mean(np.not_equal(np.argmax(y, axis=1), np.argmax(T_test, axis=1)))\n",
    "    print('Accuracy: {:f}'.format(1-test_error_rate))\n"
   ]
  },
  {
   "cell_type": "code",
   "execution_count": 2,
   "metadata": {},
   "outputs": [
    {
     "data": {
      "text/plain": [
       "0   -0.417784\n",
       "1         NaN\n",
       "2         NaN\n",
       "3         NaN\n",
       "4         NaN\n",
       "5         NaN\n",
       "6         NaN\n",
       "7         NaN\n",
       "8         NaN\n",
       "9         NaN\n",
       "dtype: float64"
      ]
     },
     "execution_count": 2,
     "metadata": {},
     "output_type": "execute_result"
    }
   ],
   "source": [
    "train.corrwith(pd.DataFrame(t_train))"
   ]
  },
  {
   "cell_type": "code",
   "execution_count": null,
   "metadata": {},
   "outputs": [],
   "source": [
    "train.corr(pd.DataFrame(t_train))"
   ]
  },
  {
   "cell_type": "code",
   "execution_count": null,
   "metadata": {
    "scrolled": true
   },
   "outputs": [],
   "source": [
    "pd.DataFrame(T_train)"
   ]
  },
  {
   "cell_type": "code",
   "execution_count": null,
   "metadata": {},
   "outputs": [],
   "source": [
    "from numpy import loadtxt\n",
    "from xgboost import XGBClassifier\n",
    "from xgboost import plot_importance\n",
    "from matplotlib import pyplot\n",
    "# load data\n",
    "dataset = loadtxt('pima-indians-diabetes.csv', delimiter=\",\")\n",
    "# split data into X and y\n",
    "X = dataset[:,0:8]\n",
    "y = dataset[:,8]\n",
    "# fit model no training data\n",
    "model = XGBClassifier()\n",
    "model.fit(train, y)\n",
    "# plot feature importance\n",
    "plot_importance(model)\n",
    "pyplot.show()"
   ]
  }
 ],
 "metadata": {
  "kernelspec": {
   "display_name": "Python 3",
   "language": "python",
   "name": "python3"
  },
  "language_info": {
   "codemirror_mode": {
    "name": "ipython",
    "version": 3
   },
   "file_extension": ".py",
   "mimetype": "text/x-python",
   "name": "python",
   "nbconvert_exporter": "python",
   "pygments_lexer": "ipython3",
   "version": "3.6.8"
  }
 },
 "nbformat": 4,
 "nbformat_minor": 2
}
