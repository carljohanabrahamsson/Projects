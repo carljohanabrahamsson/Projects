{
 "cells": [
  {
   "cell_type": "code",
   "execution_count": 1,
   "metadata": {
    "scrolled": true
   },
   "outputs": [
    {
     "name": "stderr",
     "output_type": "stream",
     "text": [
      "Using TensorFlow backend.\n"
     ]
    }
   ],
   "source": [
    "import pandas as pd\n",
    "from keras.utils import to_categorical\n",
    "import numpy as np\n",
    "from sklearn.model_selection import train_test_split\n",
    "pd.set_option('display.max_columns', 50, 'display.max_rows', 100)\n",
    "\n",
    "\n",
    "\n",
    "c = pd.read_csv('australian.dat', header=None, sep=' ')"
   ]
  },
  {
   "cell_type": "code",
   "execution_count": 2,
   "metadata": {},
   "outputs": [],
   "source": [
    "X = c.loc[:,0:13]\n",
    "X = pd.get_dummies(X, columns=[0,3,4,5,7,8,10,11])\n",
    "y = c.loc[:,14]\n",
    "y = pd.get_dummies(y)\n",
    "X_train, X_test, y_train, y_test = train_test_split(\n",
    "    X, y, test_size=0.20, random_state=42)"
   ]
  },
  {
   "cell_type": "code",
   "execution_count": 3,
   "metadata": {
    "scrolled": false
   },
   "outputs": [
    {
     "name": "stdout",
     "output_type": "stream",
     "text": [
      "Hidden units:  100\n",
      "\n",
      "\n",
      "Accuracy: 0.876812 , lambda = 0.1\n",
      "Accuracy: 0.876812 , lambda = 1\n",
      "Accuracy: 0.884058 , lambda = 10\n",
      "Accuracy: 0.884058 , lambda = 20\n",
      "Accuracy: 0.884058 , lambda = 100\n",
      "Accuracy: 0.884058 , lambda = 200\n",
      "Accuracy: 0.869565 , lambda = 600\n",
      "Accuracy: 0.862319 , lambda = 1000\n",
      "Accuracy: 0.862319 , lambda = 1100\n",
      "Accuracy: 0.862319 , lambda = 1200\n",
      "Accuracy: 0.869565 , lambda = 1300\n",
      "Accuracy: 0.869565 , lambda = 1400\n",
      "Accuracy: 0.869565 , lambda = 1500\n",
      "-------------------------------------------\n",
      "\n",
      "\n",
      "Hidden units:  400\n",
      "\n",
      "\n",
      "Accuracy: 0.760870 , lambda = 0.1\n",
      "Accuracy: 0.768116 , lambda = 1\n",
      "Accuracy: 0.804348 , lambda = 10\n",
      "Accuracy: 0.818841 , lambda = 20\n",
      "Accuracy: 0.818841 , lambda = 100\n",
      "Accuracy: 0.826087 , lambda = 200\n",
      "Accuracy: 0.811594 , lambda = 600\n",
      "Accuracy: 0.826087 , lambda = 1000\n",
      "Accuracy: 0.826087 , lambda = 1100\n",
      "Accuracy: 0.826087 , lambda = 1200\n",
      "Accuracy: 0.826087 , lambda = 1300\n",
      "Accuracy: 0.826087 , lambda = 1400\n",
      "Accuracy: 0.826087 , lambda = 1500\n",
      "-------------------------------------------\n",
      "\n",
      "\n",
      "Hidden units:  440\n",
      "\n",
      "\n",
      "Accuracy: 0.717391 , lambda = 0.1\n",
      "Accuracy: 0.768116 , lambda = 1\n",
      "Accuracy: 0.782609 , lambda = 10\n",
      "Accuracy: 0.804348 , lambda = 20\n",
      "Accuracy: 0.826087 , lambda = 100\n",
      "Accuracy: 0.833333 , lambda = 200\n",
      "Accuracy: 0.862319 , lambda = 600\n",
      "Accuracy: 0.855072 , lambda = 1000\n",
      "Accuracy: 0.855072 , lambda = 1100\n",
      "Accuracy: 0.855072 , lambda = 1200\n",
      "Accuracy: 0.855072 , lambda = 1300\n",
      "Accuracy: 0.855072 , lambda = 1400\n",
      "Accuracy: 0.855072 , lambda = 1500\n",
      "-------------------------------------------\n",
      "\n",
      "\n",
      "Hidden units:  500\n",
      "\n",
      "\n",
      "Accuracy: 0.768116 , lambda = 0.1\n",
      "Accuracy: 0.789855 , lambda = 1\n",
      "Accuracy: 0.797101 , lambda = 10\n",
      "Accuracy: 0.811594 , lambda = 20\n",
      "Accuracy: 0.826087 , lambda = 100\n",
      "Accuracy: 0.869565 , lambda = 200\n",
      "Accuracy: 0.862319 , lambda = 600\n",
      "Accuracy: 0.862319 , lambda = 1000\n",
      "Accuracy: 0.862319 , lambda = 1100\n",
      "Accuracy: 0.862319 , lambda = 1200\n",
      "Accuracy: 0.862319 , lambda = 1300\n",
      "Accuracy: 0.862319 , lambda = 1400\n",
      "Accuracy: 0.855072 , lambda = 1500\n",
      "-------------------------------------------\n",
      "\n",
      "\n",
      "Hidden units:  1000\n",
      "\n",
      "\n",
      "Accuracy: 0.710145 , lambda = 0.1\n",
      "Accuracy: 0.760870 , lambda = 1\n",
      "Accuracy: 0.789855 , lambda = 10\n",
      "Accuracy: 0.811594 , lambda = 20\n",
      "Accuracy: 0.876812 , lambda = 100\n",
      "Accuracy: 0.869565 , lambda = 200\n",
      "Accuracy: 0.876812 , lambda = 600\n",
      "Accuracy: 0.876812 , lambda = 1000\n",
      "Accuracy: 0.876812 , lambda = 1100\n",
      "Accuracy: 0.876812 , lambda = 1200\n",
      "Accuracy: 0.869565 , lambda = 1300\n",
      "Accuracy: 0.862319 , lambda = 1400\n",
      "Accuracy: 0.869565 , lambda = 1500\n",
      "-------------------------------------------\n",
      "\n",
      "\n"
     ]
    }
   ],
   "source": [
    "np.random.seed(0)\n",
    "INPUT_LENGHT = X_train.values.shape[1] \n",
    "HIDDEN_UNITS_vec = [100, 400, 440, 500, 1000]\n",
    "lam_vec = [0.1, 1, 10, 20, 100, 200, 600, 1000, 1100, 1200, 1300, 1400, 1500]\n",
    "for HIDDEN_UNITS in HIDDEN_UNITS_vec:\n",
    "    print('Hidden units: ', HIDDEN_UNITS)\n",
    "    print('\\n')\n",
    "\n",
    "    Win = np.random.normal(size=[INPUT_LENGHT, HIDDEN_UNITS])\n",
    "\n",
    "    def input_to_hidden(x):\n",
    "        a = np.dot(x, Win)\n",
    "        #a = 1 / (1 + np.exp(-a))\n",
    "        a = np.maximum(a, 0, a)\n",
    "        return a\n",
    "\n",
    "    def predict(x):\n",
    "        x = input_to_hidden(x)\n",
    "        y = np.dot(x, Wout)\n",
    "        return y\n",
    "\n",
    "    X = input_to_hidden(X_train.values)\n",
    "    Xt = np.transpose(X)\n",
    "    for lam in lam_vec:\n",
    "        Wout = np.dot(np.linalg.inv(np.dot(Xt, X)+lam*np.eye(HIDDEN_UNITS,HIDDEN_UNITS)), np.dot(Xt, y_train.values))\n",
    "        y = predict(X_test.values)\n",
    "        test_error_rate = np.mean(np.not_equal(np.argmax(y, axis=1), np.argmax(y_test.values, axis=1)))\n",
    "        print('Accuracy: {:f}'.format(1-test_error_rate), ', lambda =', lam)\n",
    "    print('-------------------------------------------')\n",
    "    print('\\n')\n"
   ]
  },
  {
   "cell_type": "code",
   "execution_count": null,
   "metadata": {},
   "outputs": [],
   "source": []
  }
 ],
 "metadata": {
  "kernelspec": {
   "display_name": "Python 3",
   "language": "python",
   "name": "python3"
  },
  "language_info": {
   "codemirror_mode": {
    "name": "ipython",
    "version": 3
   },
   "file_extension": ".py",
   "mimetype": "text/x-python",
   "name": "python",
   "nbconvert_exporter": "python",
   "pygments_lexer": "ipython3",
   "version": "3.6.8"
  }
 },
 "nbformat": 4,
 "nbformat_minor": 2
}
